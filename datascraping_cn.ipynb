{
 "cells": [
  {
   "cell_type": "code",
   "execution_count": null,
   "metadata": {},
   "outputs": [],
   "source": [
    "import requests\n",
    "from bs4 import BeautifulSoup\n",
    "import re\n",
    "import pandas as pd\n",
    "import numpy as np\n",
    "\n",
    "df = pd.DataFrame(data=None, index=None, columns=(\"School\", \"BAGradRate4yr\", \"IPEDS_ID\"))\n",
    "\n",
    "for j in collegeslinks:\n",
    "\n",
    "    page = requests.get(j)\n",
    "    IPEDS_ID = str(j)[-6:]\n",
    "\n",
    "    soup = BeautifulSoup(page.content, 'html.parser')\n",
    "\n",
    "    name_box = soup.find('div', attrs = {'id':'retgrad'}) \n",
    "\n",
    "    if name_box is None:\n",
    "        continue\n",
    "\n",
    "    page_title = soup.title.text\n",
    "\n",
    "    page_body = soup.body\n",
    "\n",
    "    table = soup.find('div', attrs = {'id':'retgrad'}) \n",
    "\n",
    "    tags = []\n",
    "    collection = table.findAll(\"img\")\n",
    "    for img in collection:\n",
    "        if 'alt' in img.attrs:\n",
    "            tags.append(img.attrs['alt'])\n",
    "\n",
    "    matches = [bool(re.search(\"Bachelor's degree rate\", str_)) for str_ in tags]\n",
    "\n",
    "    res = [i for i, val in enumerate(matches) if val]\n",
    "    res = str(res)\n",
    "    res = res.replace(\"[\", \"\")\n",
    "    res = res.replace(\"]\", \"\")\n",
    "\n",
    "    c = int(res) if res else None\n",
    "\n",
    "    b = (tags[c]) if c else None\n",
    "\n",
    "    b = re.sub(\".*Bachelor's degree rate:\", \"\", b) if b else None\n",
    "    b = re.sub(\"8-year: \\\\d{1,2}\\\\%|6-year: \\\\d{1,2}\\\\%\", \"\", b) if b else None\n",
    "\n",
    "    page_title = re.sub(\".*College Navigator -\", \"\", page_title) if page_title else None\n",
    "\n",
    "    df = df.append({'School':page_title, \"IPEDS_ID\":IPEDS_ID, \"BAGradRate4yr\":b}, ignore_index=True)\n",
    "\n",
    "    df['School'] = df['School'].str.extract(r'([^\\r\\n]+)', expand=False)\n",
    "        \n",
    "    df['BAGradRate4yr_fall_2013_cohort'] = df['BAGradRate4yr'].str.extract(r'(\\d?\\d\\%+)', expand=False)\n",
    "    df['BAGradRate4yr_fall_2015_cohort'] = df['BAGradRate4yr'].str.findall(r'(\\d?\\d\\%)').str[1]\n",
    "\n",
    "\n",
    "df = df.drop(\"BAGradRate4yr\", axis=1)\n",
    "df.to_csv('df.csv')"
   ]
  }
 ],
 "metadata": {
  "kernelspec": {
   "display_name": "Python 3.10.0 64-bit",
   "language": "python",
   "name": "python3"
  },
  "language_info": {
   "name": "python",
   "version": "3.10.0"
  },
  "orig_nbformat": 4,
  "vscode": {
   "interpreter": {
    "hash": "6e7c8aa9e902e7cba0a050965cdac1c4fc745444cec72b42c55cbe6715230e40"
   }
  }
 },
 "nbformat": 4,
 "nbformat_minor": 2
}
